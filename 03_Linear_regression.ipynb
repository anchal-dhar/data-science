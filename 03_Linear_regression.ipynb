{
  "nbformat": 4,
  "nbformat_minor": 0,
  "metadata": {
    "colab": {
      "name": "03 Linear regression.ipynb",
      "version": "0.3.2",
      "provenance": [],
      "include_colab_link": true
    },
    "kernelspec": {
      "display_name": "Python 3",
      "language": "python",
      "name": "python3"
    }
  },
  "cells": [
    {
      "cell_type": "markdown",
      "metadata": {
        "id": "view-in-github",
        "colab_type": "text"
      },
      "source": [
        "<a href=\"https://colab.research.google.com/github/omisha/data-science/blob/master/03_Linear_regression.ipynb\" target=\"_parent\"><img src=\"https://colab.research.google.com/assets/colab-badge.svg\" alt=\"Open In Colab\"/></a>"
      ]
    },
    {
      "metadata": {
        "id": "hhkz7vl5YGaj",
        "colab_type": "text"
      },
      "cell_type": "markdown",
      "source": [
        "# Linear regression through Least Square Method\n",
        "\n",
        "Here we will use numpy and matplotlib we can show the best fit regression on a simple data set.\n",
        "\n",
        "[https://docs.scipy.org/doc/numpy/reference/generated/numpy.polyfit.html](https://docs.scipy.org/doc/numpy/reference/generated/numpy.polyfit.html \"Least squares polynomial fit\")"
      ]
    },
    {
      "metadata": {
        "id": "SR6JfGnKYGak",
        "colab_type": "code",
        "colab": {}
      },
      "cell_type": "code",
      "source": [
        "%matplotlib inline\n",
        "import numpy as np\n",
        "import matplotlib.pyplot as plt\n",
        "\n",
        "# Alligator data snout length and weight\n",
        "alligatorLength = np.array([3.87, 3.61, 4.33, 3.43, 3.81, 3.83, 3.46, 3.76, 3.50, 3.58, 4.19, 3.78, 3.71, 3.73, 3.78])\n",
        "alligatorWeight = np.array([4.87, 3.93, 6.46, 3.33, 4.38, 4.70, 3.50, 4.50, 3.58, 3.64, 5.90, 4.43, 4.38, 4.42, 4.25])"
      ],
      "execution_count": 0,
      "outputs": []
    },
    {
      "metadata": {
        "id": "gfi5anNxYGao",
        "colab_type": "code",
        "colab": {
          "base_uri": "https://localhost:8080/",
          "height": 282
        },
        "outputId": "c18f0b74-8423-4b45-8bee-f2b92fd1ece1"
      },
      "cell_type": "code",
      "source": [
        "plt.scatter(alligatorLength*10,alligatorWeight*10)\n",
        "plt.show()\n",
        "\n",
        "# Find the slope and intercept of the best fit line\n",
        "slope, intercept = np.polyfit(alligatorLength, alligatorWeight, 1) # polyfit can also do Polynomial regress\n",
        "print ('slope: {0} intercept: {1}'.format(slope, intercept))"
      ],
      "execution_count": 17,
      "outputs": [
        {
          "output_type": "display_data",
          "data": {
            "image/png": "[encoded data removed]",
            "text/plain": [
              "<matplotlib.figure.Figure at 0x7f1b64e5b518>"
            ]
          },
          "metadata": {
            "tags": []
          }
        },
        {
          "output_type": "stream",
          "text": [
            "slope: 3.431098217210238 intercept: -8.476067100276072\n"
          ],
          "name": "stdout"
        }
      ]
    },
    {
      "metadata": {
        "id": "y91-A8J9YGar",
        "colab_type": "code",
        "colab": {
          "base_uri": "https://localhost:8080/",
          "height": 331
        },
        "outputId": "6e1aa37a-c6b1-4caf-b97d-7fdca3dae803"
      },
      "cell_type": "code",
      "source": [
        "# Create abline_values array to be able to plot the best fit line\n",
        "abline_values = [slope * i + intercept for i in alligatorLength]\n",
        "print(abline_values)\n",
        "# Scatter Plot\n",
        "plt.scatter(alligatorLength, alligatorWeight, c='g') # c='g' for green\n",
        "plt.plot(alligatorLength, abline_values, c='b') # c='b' for blue\n",
        "plt.xlabel('Alligator Snout Length')\n",
        "plt.ylabel('Alligator Weight')\n",
        "plt.title('Alligator')\n",
        "plt.show()"
      ],
      "execution_count": 16,
      "outputs": [
        {
          "output_type": "stream",
          "text": [
            "[4.8022830003275505, 3.910197463852887, 6.38058818024426, 3.292599784755046, 4.596417107294936, 4.665039071639141, 3.395532731271352, 4.4248621964344235, 3.5327766599597616, 3.8072645173365807, 5.900234429834827, 4.493484160778628, 4.253307285573911, 4.3219292499181154, 4.493484160778628]\n"
          ],
          "name": "stdout"
        },
        {
          "output_type": "display_data",
          "data": {
            "image/png": "[encoded data removed]",
            "text/plain": [
              "<matplotlib.figure.Figure at 0x7f1b64ec5f98>"
            ]
          },
          "metadata": {
            "tags": []
          }
        }
      ]
    },
    {
      "metadata": {
        "id": "zCwN5XHMYGat",
        "colab_type": "code",
        "colab": {
          "base_uri": "https://localhost:8080/",
          "height": 34
        },
        "outputId": "9b4603d4-cc96-4bb8-99ab-bbd9ca096d95"
      },
      "cell_type": "code",
      "source": [
        "# Using the slope and intercept we can get the likely weight of an Alligator\n",
        "algLen = 4\n",
        "algWeight = slope*algLen + intercept\n",
        "print ('Alligator Snout Length: {0} Calculated weight: {1}'.format(algLen, algWeight))\n"
      ],
      "execution_count": 28,
      "outputs": [
        {
          "output_type": "stream",
          "text": [
            "Alligator Snout Length: 4 Calculated weight: 5.2483257685648805\n"
          ],
          "name": "stdout"
        }
      ]
    }
  ]
}