{
  "nbformat": 4,
  "nbformat_minor": 0,
  "metadata": {
    "colab": {
      "name": "01 Matplotlib exercises.ipynb",
      "version": "0.3.2",
      "provenance": [],
      "include_colab_link": true
    },
    "kernelspec": {
      "display_name": "Python 3",
      "language": "python",
      "name": "python3"
    }
  },
  "cells": [
    {
      "cell_type": "markdown",
      "metadata": {
        "id": "view-in-github",
        "colab_type": "text"
      },
      "source": [
        "<a href=\"https://colab.research.google.com/github/omisha/data-science/blob/master/01_Matplotlib_exercises.ipynb\" target=\"_parent\"><img src=\"https://colab.research.google.com/assets/colab-badge.svg\" alt=\"Open In Colab\"/></a>"
      ]
    },
    {
      "metadata": {
        "id": "kjahU8HVEYxG",
        "colab_type": "text"
      },
      "cell_type": "markdown",
      "source": [
        "# Matplotlib exercise\n",
        "\n",
        "1. Line Plot\n",
        "1. Bar chart\n",
        "1. Bar chart - multiple inputs\n",
        "1. Bar chart - stacked\n",
        "1. Scatter plot data"
      ]
    },
    {
      "metadata": {
        "id": "vY4VdtDjEYxI",
        "colab_type": "code",
        "colab": {}
      },
      "cell_type": "code",
      "source": [
        "%matplotlib inline\n",
        "import numpy as np\n",
        "import matplotlib.pyplot as plt"
      ],
      "execution_count": 0,
      "outputs": []
    },
    {
      "metadata": {
        "id": "3SMPFMBREYxL",
        "colab_type": "code",
        "outputId": "31cdf62f-1a0d-4b77-a966-618d11f873c4",
        "colab": {
          "base_uri": "https://localhost:8080/",
          "height": 294
        }
      },
      "cell_type": "code",
      "source": [
        "# Line Plot data\n",
        "myArray =  np.array([ -10, 7,  8,  9, 10, 12, 13, 15, 16,\n",
        "       17, 18, 20, 100, 23, 24, 25, 23, 22,  20, 19, 17, 16, 15, 13, 12, 11])\n",
        "\n",
        "plt.plot(myArray)\n",
        "plt.xlabel('Some x-axis label')\n",
        "plt.ylabel('Some y-axis label')\n",
        "plt.title('Line Plot')\n",
        "plt.show()"
      ],
      "execution_count": 0,
      "outputs": [
        {
          "output_type": "display_data",
          "data": {
            "image/png": "[encoded data removed]",
            "text/plain": [
              "<matplotlib.figure.Figure at 0x7fee41484e80>"
            ]
          },
          "metadata": {
            "tags": []
          }
        }
      ]
    },
    {
      "metadata": {
        "id": "UYK-GHjhEYxP",
        "colab_type": "code",
        "outputId": "bc8121b2-85f9-4758-959c-c48f49c63967",
        "colab": {
          "base_uri": "https://localhost:8080/",
          "height": 296
        }
      },
      "cell_type": "code",
      "source": [
        "# Bar chart plot data\n",
        "important = (0,0,4,3,10,21)\n",
        "data_range = np.arange(6)\n",
        "plt.bar(data_range,important)\n",
        "\n",
        "plt.xlabel('x label')\n",
        "plt.ylabel('y label')\n",
        "plt.show"
      ],
      "execution_count": 0,
      "outputs": [
        {
          "output_type": "execute_result",
          "data": {
            "text/plain": [
              "<function matplotlib.pyplot.show>"
            ]
          },
          "metadata": {
            "tags": []
          },
          "execution_count": 17
        },
        {
          "output_type": "display_data",
          "data": {
            "image/png": "[encoded data removed]",
            "text/plain": [
              "<matplotlib.figure.Figure at 0x7fee413bc160>"
            ]
          },
          "metadata": {
            "tags": []
          }
        }
      ]
    },
    {
      "metadata": {
        "id": "9bOlX5ZOEYxS",
        "colab_type": "code",
        "outputId": "226a5dc6-214d-4932-9259-ece3f3639c51",
        "colab": {
          "base_uri": "https://localhost:8080/",
          "height": 280
        }
      },
      "cell_type": "code",
      "source": [
        "# Bar chart plot data - multiple inputs\n",
        "important = (0,0,4,3,15,10)\n",
        "current =(1,1,16,10,8,2)\n",
        "N = 6\n",
        "width = 0.1\n",
        "\n",
        "x = np.arange(6)\n",
        "p1 = plt.bar(x - width/2,current,width,color='y')\n",
        "p2 = plt.bar(x + width/2,important,width,color='r')\n",
        "\n",
        "plt.ylabel('Range')\n",
        "plt.title('A bar chart stacked')\n",
        "plt.xticks(x , ('G1', 'G2', 'G3', 'G4', 'G5'))\n",
        "plt.yticks(np.arange(0, 20,5))\n",
        "\n",
        "#plt.legend((p1, p2), ('important', 'current'))\n",
        "\n",
        "plt.show()\n",
        "\n"
      ],
      "execution_count": 0,
      "outputs": [
        {
          "output_type": "display_data",
          "data": {
            "image/png": "[encoded data removed]",
            "text/plain": [
              "<matplotlib.figure.Figure at 0x7fee413bc5c0>"
            ]
          },
          "metadata": {
            "tags": []
          }
        }
      ]
    },
    {
      "metadata": {
        "id": "-os1KqazEYxV",
        "colab_type": "code",
        "outputId": "d4722742-b8cd-45d0-fdeb-82e98fbf1827",
        "colab": {
          "base_uri": "https://localhost:8080/",
          "height": 280
        }
      },
      "cell_type": "code",
      "source": [
        "# Bar chart plot data stacked - multiple inputs\n",
        "important = (3,0,4,7,16,8)\n",
        "current =(0,4,16,11,7,2)\n",
        "N = 6\n",
        "\n",
        "width = 0.25\n",
        "\n",
        "x = np.arange(6)\n",
        "\n",
        "p2 = plt.bar(x,important,width,color='b')\n",
        "p1 = plt.bar(x,current,width,color='y' , bottom=important)\n",
        "\n",
        "plt.ylabel('Range')\n",
        "plt.title('A bar chart stacked')\n",
        "plt.xticks(x , ('G1', 'G2', 'G3', 'G4', 'G5'))\n",
        "plt.yticks(np.arange(0, 15,3))\n",
        "\n",
        "plt.legend((p2[0], p1[0]), ('important', 'current'))\n",
        "\n",
        "plt.show()\n",
        "\n"
      ],
      "execution_count": 0,
      "outputs": [
        {
          "output_type": "display_data",
          "data": {
            "image/png": "[encoded data removed]",
            "text/plain": [
              "<matplotlib.figure.Figure at 0x7fee41182828>"
            ]
          },
          "metadata": {
            "tags": []
          }
        }
      ]
    },
    {
      "metadata": {
        "id": "m9rGgQJgEYxX",
        "colab_type": "code",
        "outputId": "a23f2d4b-7048-4450-f022-55b7bd07a7a2",
        "colab": {
          "base_uri": "https://localhost:8080/",
          "height": 282
        }
      },
      "cell_type": "code",
      "source": [
        "# Scatter plot data\n",
        "# Alligator data snout length and weight\n",
        "alligatorLength = np.array([3.87, 3.61, 4.33, 3.43, 3.81, 3.83, 3.46, 3.76, 3.50, 3.58, 4.19, 3.78, 4, 3.73, 3.78])\n",
        "alligatorWeight = np.array([4.87, 3.93, 6.46, 3.33, 4.38, 4.70, 3.50, 4.50, 3.58, 3.64, 5.90, 4.43, 100, 4, 4.25])\n",
        "plt.scatter(alligatorLength,alligatorWeight)"
      ],
      "execution_count": 0,
      "outputs": [
        {
          "output_type": "execute_result",
          "data": {
            "text/plain": [
              "<matplotlib.collections.PathCollection at 0x7fee414b29e8>"
            ]
          },
          "metadata": {
            "tags": []
          },
          "execution_count": 56
        },
        {
          "output_type": "display_data",
          "data": {
            "image/png": "[encoded data removed]",
            "text/plain": [
              "<matplotlib.figure.Figure at 0x7fee41593550>"
            ]
          },
          "metadata": {
            "tags": []
          }
        }
      ]
    },
    {
      "metadata": {
        "id": "4DKoZvGQEYxa",
        "colab_type": "code",
        "colab": {}
      },
      "cell_type": "code",
      "source": [
        ""
      ],
      "execution_count": 0,
      "outputs": []
    }
  ]
}